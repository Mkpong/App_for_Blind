{
 "cells": [
  {
   "cell_type": "code",
   "execution_count": 7,
   "metadata": {},
   "outputs": [],
   "source": [
    "from glob import glob\n",
    "import os"
   ]
  },
  {
   "cell_type": "markdown",
   "metadata": {},
   "source": [
    "### 특정 문자열이 들어간 폴더 삭제"
   ]
  },
  {
   "cell_type": "code",
   "execution_count": 71,
   "metadata": {},
   "outputs": [
    {
     "name": "stdout",
     "output_type": "stream",
     "text": [
      "['/home/leeej/CISLab/WinterPj/119.상품_이미지_데이터/01.데이터/2.Validation/라벨링데이터/65480_홈플러스넛츠바4개입', '/home/leeej/CISLab/WinterPj/119.상품_이미지_데이터/01.데이터/2.Validation/라벨링데이터/15178_(주)명성식품)홈플러스시그니처리얼새송이버섯칩25G', '/home/leeej/CISLab/WinterPj/119.상품_이미지_데이터/01.데이터/2.Validation/라벨링데이터/45160_홈플러스)진저씬레몬150G', '/home/leeej/CISLab/WinterPj/119.상품_이미지_데이터/01.데이터/2.Validation/라벨링데이터/45277_홈플러스)프랑스팔미에르비스켓100G', '/home/leeej/CISLab/WinterPj/119.상품_이미지_데이터/01.데이터/2.Validation/라벨링데이터/25164_홈플러스)진저씬오리지널150G', '/home/leeej/CISLab/WinterPj/119.상품_이미지_데이터/01.데이터/2.Validation/라벨링데이터/15432_홈플러스시그니쳐소프트초콜릿블랙100G', '/home/leeej/CISLab/WinterPj/119.상품_이미지_데이터/01.데이터/2.Validation/라벨링데이터/A20032_홈플러스)초코디핑스틱', '/home/leeej/CISLab/WinterPj/119.상품_이미지_데이터/01.데이터/2.Validation/라벨링데이터/55394_홈플러스풋볼미니초콜릿', '/home/leeej/CISLab/WinterPj/119.상품_이미지_데이터/01.데이터/2.Validation/라벨링데이터/25178_홈플러스)고다치즈바이트75G', '/home/leeej/CISLab/WinterPj/119.상품_이미지_데이터/01.데이터/2.Validation/라벨링데이터/45431_홈플러스)맛있는치즈솔솔까망베르볼', '/home/leeej/CISLab/WinterPj/119.상품_이미지_데이터/01.데이터/2.Validation/라벨링데이터/35375_홈플러스)홈플러스크리스미밀크초코틴스', '/home/leeej/CISLab/WinterPj/119.상품_이미지_데이터/01.데이터/2.Validation/라벨링데이터/45113_홈플러스시그니처점보아몬드400G', '/home/leeej/CISLab/WinterPj/119.상품_이미지_데이터/01.데이터/2.Validation/라벨링데이터/15179_(주)명성식품)홈플러스시그니처리얼우엉칩25G', '/home/leeej/CISLab/WinterPj/119.상품_이미지_데이터/01.데이터/2.Validation/라벨링데이터/35376_홈플러스)홈플러스크리스미다크초코틴스', '/home/leeej/CISLab/WinterPj/119.상품_이미지_데이터/01.데이터/2.Validation/라벨링데이터/35377_홈플러스)홈플러스크리스미오렌지초코틴스', '/home/leeej/CISLab/WinterPj/119.상품_이미지_데이터/01.데이터/2.Validation/라벨링데이터/15431_홈플러스시그니쳐소프트초콜릿밀크100G', '/home/leeej/CISLab/WinterPj/119.상품_이미지_데이터/01.데이터/2.Validation/라벨링데이터/55539_홈플러스해바라기초코볼', '/home/leeej/CISLab/WinterPj/119.상품_이미지_데이터/01.데이터/2.Validation/라벨링데이터/35187_홈플러스)HomepiusSignature리얼연근칩30g', '/home/leeej/CISLab/WinterPj/119.상품_이미지_데이터/01.데이터/2.Validation/라벨링데이터/15177_(주)명성식품)홈플러스시그니처리얼느타리버섯칩23G', '/home/leeej/CISLab/WinterPj/119.상품_이미지_데이터/01.데이터/2.Validation/라벨링데이터/35387_홈플러스)디노랜드', '/home/leeej/CISLab/WinterPj/119.상품_이미지_데이터/01.데이터/2.Validation/라벨링데이터/65488_홈플러스소프트초콜릿제주말차', '/home/leeej/CISLab/WinterPj/119.상품_이미지_데이터/01.데이터/2.Validation/라벨링데이터/15422_홈플러스인절미볼', '/home/leeej/CISLab/WinterPj/119.상품_이미지_데이터/01.데이터/2.Validation/라벨링데이터/35388_홈플러스)매지컬유니콘즈']\n",
      "23\n"
     ]
    }
   ],
   "source": [
    "homepluss = glob.glob('/home/leeej/CISLab/WinterPj/119.상품_이미지_데이터/01.데이터/2.Validation/라벨링데이터/*홈플러스*')\n",
    "print(homepluss)\n",
    "print(len(homepluss))\n",
    "\n",
    "# 각 폴더를 삭제합니다.\n",
    "for folder in homepluss:\n",
    "    # 디렉터리 내의 모든 파일을 삭제합니다.\n",
    "    for f in os.listdir(folder):\n",
    "        f_path = os.path.join(folder, f)\n",
    "        if os.path.isfile(f_path):\n",
    "            os.remove(f_path)\n",
    "\n",
    "    # 디렉터리가 비어 있는지 확인합니다.\n",
    "    if not os.listdir(folder):\n",
    "        # 디렉터리를 삭제합니다.\n",
    "        os.rmdir(folder)\n"
   ]
  },
  {
   "cell_type": "code",
   "execution_count": 76,
   "metadata": {},
   "outputs": [
    {
     "name": "stdout",
     "output_type": "stream",
     "text": [
      "['/home/leeej/CISLab/WinterPj/119.상품_이미지_데이터/01.데이터/2.Validation/라벨링데이터/55609_이마트에그롤쿠키', '/home/leeej/CISLab/WinterPj/119.상품_이미지_데이터/01.데이터/2.Validation/라벨링데이터/15881_이마트피코크망고그대로10G', '/home/leeej/CISLab/WinterPj/119.상품_이미지_데이터/01.데이터/2.Validation/라벨링데이터/35638_이마트)프링글스오리지널', '/home/leeej/CISLab/WinterPj/119.상품_이미지_데이터/01.데이터/2.Validation/라벨링데이터/A40010_(주)이마트24자색고구마웨이퍼롤', '/home/leeej/CISLab/WinterPj/119.상품_이미지_데이터/01.데이터/2.Validation/라벨링데이터/35595_이마트동물쿠키펭귄175G', '/home/leeej/CISLab/WinterPj/119.상품_이미지_데이터/01.데이터/2.Validation/라벨링데이터/75006_이마트)동물쿠키몽키', '/home/leeej/CISLab/WinterPj/119.상품_이미지_데이터/01.데이터/2.Validation/라벨링데이터/35637_이마트)프링글스사워크림앤어니언', '/home/leeej/CISLab/WinterPj/119.상품_이미지_데이터/01.데이터/2.Validation/라벨링데이터/A40004_(주)이마트24감자칩김와사비향', '/home/leeej/CISLab/WinterPj/119.상품_이미지_데이터/01.데이터/2.Validation/라벨링데이터/15625_이마트스키니팝콘80칼로리18G', '/home/leeej/CISLab/WinterPj/119.상품_이미지_데이터/01.데이터/2.Validation/라벨링데이터/15649_이마트노브랜드유기농쌀과자자색고구마55G', '/home/leeej/CISLab/WinterPj/119.상품_이미지_데이터/01.데이터/2.Validation/라벨링데이터/15652_이마트피코크브라우니칩80G', '/home/leeej/CISLab/WinterPj/119.상품_이미지_데이터/01.데이터/2.Validation/라벨링데이터/A40009_(주)이마트24자색고구마칩', '/home/leeej/CISLab/WinterPj/119.상품_이미지_데이터/01.데이터/2.Validation/라벨링데이터/55800_이마트)오리지날젤리빈사우어세세이션', '/home/leeej/CISLab/WinterPj/119.상품_이미지_데이터/01.데이터/2.Validation/라벨링데이터/15655_이마트피코크유기농딸기그대로15G', '/home/leeej/CISLab/WinterPj/119.상품_이미지_데이터/01.데이터/2.Validation/라벨링데이터/15645_이마트핑크퐁유기농쌀로만든사과당근배떡뻥40G', '/home/leeej/CISLab/WinterPj/119.상품_이미지_데이터/01.데이터/2.Validation/라벨링데이터/15697_이마트럭셔리초코웨이퍼350G', '/home/leeej/CISLab/WinterPj/119.상품_이미지_데이터/01.데이터/2.Validation/라벨링데이터/25625_이마트피코크유기농쌀로만든발아현미떡뻥40G', '/home/leeej/CISLab/WinterPj/119.상품_이미지_데이터/01.데이터/2.Validation/라벨링데이터/A40012_(주)이마트24초코웨이퍼롤', '/home/leeej/CISLab/WinterPj/119.상품_이미지_데이터/01.데이터/2.Validation/라벨링데이터/75004_이마트)동물쿠키베어', '/home/leeej/CISLab/WinterPj/119.상품_이미지_데이터/01.데이터/2.Validation/라벨링데이터/A40008_(주)이마트24달콤한딸기웨하스미니', '/home/leeej/CISLab/WinterPj/119.상품_이미지_데이터/01.데이터/2.Validation/라벨링데이터/25626_이마트피코크유기농쌀로만든오곡떡뻥40G', '/home/leeej/CISLab/WinterPj/119.상품_이미지_데이터/01.데이터/2.Validation/라벨링데이터/A40013_(주)이마트24코코넛쿠키', '/home/leeej/CISLab/WinterPj/119.상품_이미지_데이터/01.데이터/2.Validation/라벨링데이터/35562_이마트)초코칩브라우니쿠키', '/home/leeej/CISLab/WinterPj/119.상품_이미지_데이터/01.데이터/2.Validation/라벨링데이터/A40011_(주)이마트24바닐라향웨이퍼롤', '/home/leeej/CISLab/WinterPj/119.상품_이미지_데이터/01.데이터/2.Validation/라벨링데이터/25842_이마트피코크사과그대로18G', '/home/leeej/CISLab/WinterPj/119.상품_이미지_데이터/01.데이터/2.Validation/라벨링데이터/15653_이마트피코크허니버터베이글칩40G', '/home/leeej/CISLab/WinterPj/119.상품_이미지_데이터/01.데이터/2.Validation/라벨링데이터/25635_이마트피코크플로랑탱아몬드80G', '/home/leeej/CISLab/WinterPj/119.상품_이미지_데이터/01.데이터/2.Validation/라벨링데이터/25669_이마트피코크대만파인에플케익(펑리수)270G', '/home/leeej/CISLab/WinterPj/119.상품_이미지_데이터/01.데이터/2.Validation/라벨링데이터/A40007_(주)이마트24달콤한바닐라웨하스미니', '/home/leeej/CISLab/WinterPj/119.상품_이미지_데이터/01.데이터/2.Validation/라벨링데이터/25662_이마트쏠티드크래커250G', '/home/leeej/CISLab/WinterPj/119.상품_이미지_데이터/01.데이터/2.Validation/라벨링데이터/15648_이마트노브랜드유기농쌀과자단호박55G', '/home/leeej/CISLab/WinterPj/119.상품_이미지_데이터/01.데이터/2.Validation/라벨링데이터/55691_이마트티타임비스킷벨기에산', '/home/leeej/CISLab/WinterPj/119.상품_이미지_데이터/01.데이터/2.Validation/라벨링데이터/15698_이마트럭셔리카푸치노웨이퍼350G', '/home/leeej/CISLab/WinterPj/119.상품_이미지_데이터/01.데이터/2.Validation/라벨링데이터/15654_이마트피코크카스테라칩50G', '/home/leeej/CISLab/WinterPj/119.상품_이미지_데이터/01.데이터/2.Validation/라벨링데이터/25627_이마트피코크유기농사과그대로15G', '/home/leeej/CISLab/WinterPj/119.상품_이미지_데이터/01.데이터/2.Validation/라벨링데이터/A40014_(주)이마트24초코칩쿠키', '/home/leeej/CISLab/WinterPj/119.상품_이미지_데이터/01.데이터/2.Validation/라벨링데이터/A40003_(주)이마트24감자칩오리지널', '/home/leeej/CISLab/WinterPj/119.상품_이미지_데이터/01.데이터/2.Validation/라벨링데이터/A40006_(주)이마트24흑당팝콘', '/home/leeej/CISLab/WinterPj/119.상품_이미지_데이터/01.데이터/2.Validation/라벨링데이터/35599_이마트로얄단스크버터앤초콜릿칩쿠키454G', '/home/leeej/CISLab/WinterPj/119.상품_이미지_데이터/01.데이터/2.Validation/라벨링데이터/25841_이마트피코크배그대로18G', '/home/leeej/CISLab/WinterPj/119.상품_이미지_데이터/01.데이터/2.Validation/라벨링데이터/15657_이마트피코크초코프레첼80G', '/home/leeej/CISLab/WinterPj/119.상품_이미지_데이터/01.데이터/2.Validation/라벨링데이터/25670_이마트피코크대만파인에플케익(펑리수)120G', '/home/leeej/CISLab/WinterPj/119.상품_이미지_데이터/01.데이터/2.Validation/라벨링데이터/25588_이마트피코크쿠키프렌즈255G', '/home/leeej/CISLab/WinterPj/119.상품_이미지_데이터/01.데이터/2.Validation/라벨링데이터/A40005_(주)이마트24민트초코팝콘', '/home/leeej/CISLab/WinterPj/119.상품_이미지_데이터/01.데이터/2.Validation/라벨링데이터/A40002_(주)이마트24민생감자칩사워크림_어니언', '/home/leeej/CISLab/WinterPj/119.상품_이미지_데이터/01.데이터/2.Validation/라벨링데이터/15656_이마트피코크두부과자고소한맛플레인80G', '/home/leeej/CISLab/WinterPj/119.상품_이미지_데이터/01.데이터/2.Validation/라벨링데이터/15624_이마트씨솔트카라멜_크림치즈팝콘45G', '/home/leeej/CISLab/WinterPj/119.상품_이미지_데이터/01.데이터/2.Validation/라벨링데이터/25671_이마트피코크초코참깨스틱42G']\n",
      "48\n"
     ]
    }
   ],
   "source": [
    "emarts = glob.glob('/home/leeej/CISLab/WinterPj/119.상품_이미지_데이터/01.데이터/2.Validation/라벨링데이터/*이마트*')\n",
    "print(emarts)\n",
    "print(len(emarts))\n",
    "\n",
    "# 각 폴더를 삭제합니다.\n",
    "for folder in emarts:\n",
    "    # 디렉터리 내의 모든 파일을 삭제합니다.\n",
    "    for f in os.listdir(folder):\n",
    "        f_path = os.path.join(folder, f)\n",
    "        if os.path.isfile(f_path):\n",
    "            os.remove(f_path)\n",
    "\n",
    "    # 디렉터리가 비어 있는지 확인합니다.\n",
    "    if not os.listdir(folder):\n",
    "        # 디렉터리를 삭제합니다.\n",
    "        os.rmdir(folder)"
   ]
  },
  {
   "cell_type": "code",
   "execution_count": 1,
   "metadata": {},
   "outputs": [
    {
     "name": "stdout",
     "output_type": "stream",
     "text": [
      "./119.상품_이미지_데이터/01.데이터/2.Validation/원천데이터/30069_농심쌀새우깡80G\n",
      "./119.상품_이미지_데이터/01.데이터/2.Validation/원천데이터/40095_농심새우깡90G\n",
      "./119.상품_이미지_데이터/01.데이터/2.Validation/원천데이터/10093_농심매운새우깡90G\n",
      "./119.상품_이미지_데이터/01.데이터/2.Validation/원천데이터/30068_농심)깐풍새우깡80G\n",
      "./119.상품_이미지_데이터/01.데이터/2.Validation/원천데이터/35050_해태홈런볼티라미수146G\n",
      "./119.상품_이미지_데이터/01.데이터/2.Validation/원천데이터/30133_포카칩오리지널110G\n",
      "./119.상품_이미지_데이터/01.데이터/2.Validation/원천데이터/40153_오)포카칩어니언맛110g\n",
      "./119.상품_이미지_데이터/01.데이터/2.Validation/원천데이터/10210_오리온)포카칩오리지널66G\n",
      "./119.상품_이미지_데이터/01.데이터/2.Validation/원천데이터/30067_오리온)포카칩양파66G\n",
      "./119.상품_이미지_데이터/01.데이터/2.Validation/원천데이터/10091_꼬깔콘고소한맛72G\n",
      "./119.상품_이미지_데이터/01.데이터/2.Validation/원천데이터/40091_꼬깔콘군옥수수맛72G\n",
      "./119.상품_이미지_데이터/01.데이터/2.Validation/원천데이터/30120_롯데)꼬깔콘매콤달콤72G\n",
      "./119.상품_이미지_데이터/01.데이터/2.Validation/원천데이터/45227_롯데제과)꼬깔콘고소한맛42G\n",
      "./119.상품_이미지_데이터/01.데이터/2.Validation/원천데이터/40089_오리온꼬북칩80G\n",
      "./119.상품_이미지_데이터/01.데이터/2.Validation/원천데이터/15895_해태맛동산375G\n",
      "./119.상품_이미지_데이터/01.데이터/2.Validation/원천데이터/15893_해태블랙맛동산아몬드_헤이즐넛300G\n",
      "./119.상품_이미지_데이터/01.데이터/2.Validation/원천데이터/15894_해태흑당맛동산300G\n",
      "./119.상품_이미지_데이터/01.데이터/2.Validation/원천데이터/10209_해태)맛동산90G\n",
      "./119.상품_이미지_데이터/01.데이터/2.Validation/원천데이터/70082_해태)맛동산300G\n",
      "./119.상품_이미지_데이터/01.데이터/2.Validation/원천데이터/40156_해태맛동산165g\n",
      "./119.상품_이미지_데이터/01.데이터/2.Validation/원천데이터/25180_농심켈로그)프링글스버팔로윙맛110G\n",
      "./119.상품_이미지_데이터/01.데이터/2.Validation/원천데이터/15626_농심켈로그프링글스또띠아콘칩스파이시그린페퍼110G\n",
      "./119.상품_이미지_데이터/01.데이터/2.Validation/원천데이터/30292_프링글스양파맛53G\n",
      "./119.상품_이미지_데이터/01.데이터/2.Validation/원천데이터/60132_농심)프링글스할라피뇨110G\n",
      "./119.상품_이미지_데이터/01.데이터/2.Validation/원천데이터/35638_이마트)프링글스오리지널\n",
      "./119.상품_이미지_데이터/01.데이터/2.Validation/원천데이터/20125_프링글스오리지날110G\n",
      "./119.상품_이미지_데이터/01.데이터/2.Validation/원천데이터/20129_켈로그)프링글스사워크림_어니언\n",
      "./119.상품_이미지_데이터/01.데이터/2.Validation/원천데이터/35637_이마트)프링글스사워크림앤어니언\n",
      "./119.상품_이미지_데이터/01.데이터/2.Validation/원천데이터/20127_프링글스치즈맛110G\n",
      "./119.상품_이미지_데이터/01.데이터/2.Validation/원천데이터/65199_켈로그프링글스찹스테이크\n",
      "./119.상품_이미지_데이터/01.데이터/2.Validation/원천데이터/45168_농심켈로그)프링글스사워크림앤어니언100G\n",
      "./119.상품_이미지_데이터/01.데이터/2.Validation/원천데이터/10112_농심)프링글스클래식53G\n",
      "./119.상품_이미지_데이터/01.데이터/2.Validation/원천데이터/80117_프링글스핫스파이시110G\n",
      "./119.상품_이미지_데이터/01.데이터/2.Validation/원천데이터/20126_농심)프링글스클래식110G\n",
      "./119.상품_이미지_데이터/01.데이터/2.Validation/원천데이터/70142_프링글스WTF110G\n",
      "./119.상품_이미지_데이터/01.데이터/2.Validation/원천데이터/45167_농심켈로그)프링글스블로네제스파게티맛110G\n",
      "./119.상품_이미지_데이터/01.데이터/2.Validation/원천데이터/25181_농심켈로그)프링글스마늘감자구이맛110G\n",
      "./119.상품_이미지_데이터/01.데이터/2.Validation/원천데이터/30291_프링글스오리지날53G\n",
      "./119.상품_이미지_데이터/01.데이터/2.Validation/원천데이터/90293_프링글스또띠아나쵸치즈110G\n",
      "./119.상품_이미지_데이터/01.데이터/2.Validation/원천데이터/20128_농심)프링글스버터캬라멜110G\n",
      "./119.상품_이미지_데이터/01.데이터/2.Validation/원천데이터/60131_프링글스마요치즈맛110G\n",
      "./119.상품_이미지_데이터/01.데이터/2.Validation/원천데이터/65200_켈로그프링글스크리미쉬림프\n",
      "./119.상품_이미지_데이터/01.데이터/2.Validation/원천데이터/60097_농심프링글스핫앤스파이시53G\n",
      "./119.상품_이미지_데이터/01.데이터/2.Validation/원천데이터/70143_농심)프링글스블랙페퍼크랩110G\n",
      "./119.상품_이미지_데이터/01.데이터/2.Validation/원천데이터/10177_롯데)오징어땅콩90G\n",
      "./119.상품_이미지_데이터/01.데이터/2.Validation/원천데이터/90072_오리온오징어땅콩98G\n",
      "./119.상품_이미지_데이터/01.데이터/2.Validation/원천데이터/45050_오리온카스타드\n",
      "./119.상품_이미지_데이터/01.데이터/2.Validation/원천데이터/50095_롯데카스타드138G\n",
      "./119.상품_이미지_데이터/01.데이터/2.Validation/원천데이터/25665_해태샌드에이스요거트크림204G\n",
      "./119.상품_이미지_데이터/01.데이터/2.Validation/원천데이터/20123_해태에이스121G\n",
      "./119.상품_이미지_데이터/01.데이터/2.Validation/원천데이터/15963_에이스엠엔티벨비타브랙퍼스트허니_초콜릿80G\n",
      "./119.상품_이미지_데이터/01.데이터/2.Validation/원천데이터/65457_해태에이스(10개입)\n",
      "./119.상품_이미지_데이터/01.데이터/2.Validation/원천데이터/65921_스위트스에이스)미니스낵패스트리크림\n",
      "./119.상품_이미지_데이터/01.데이터/2.Validation/원천데이터/66188_에이스엠엔티)미니오레오\n",
      "./119.상품_이미지_데이터/01.데이터/2.Validation/원천데이터/15964_에이스엠엔티벨비타브랙퍼스트밀크_비스켓80G\n",
      "./119.상품_이미지_데이터/01.데이터/2.Validation/원천데이터/80096_해태샌드에이스요거트크림68G\n",
      "./119.상품_이미지_데이터/01.데이터/2.Validation/원천데이터/25034_해태에이스436G\n"
     ]
    },
    {
     "data": {
      "text/plain": [
       "57"
      ]
     },
     "execution_count": 1,
     "metadata": {},
     "output_type": "execute_result"
    }
   ],
   "source": [
    "# 특정 과자 리스트 만들기\n",
    "label_link = ''\n",
    "image_link = ''\n",
    "list = ['10091_꼬깔콘고소한맛72G', '10092_농심오징어집83G', '10093_농심매운새우깡90G', '10094_크라운)콘초66G', '10095_농심바나나킥75G', \n",
    "        '10209_해태)맛동산90G', '10210_오리온)포카칩오리지널66G', '15033_롯데ABC초코쿠키152G', '15036_크라운쿠크다스케이크154G', '15046_동서리츠샌드위치크래커치즈96G', \n",
    "        '15047_동서리츠샌드위치크래커레몬96G', '15052_롯데마가렛트오리지널88G', '15731_CJ쁘띠첼워터젤리오렌지130ML', '20085_오리온고소미80G', '20118_리콜라스위스켄디레몬민트', \n",
    "        '20123_해태에이스121G', '20127_프링글스치즈맛110G', '20128_농심)프링글스버터캬라멜110G','20160_매일킨더초코렛T4_50G', '20164_해태)허니버터칩38G', \n",
    "        '20171_농심알새우칩68G','20207_오리온)쿠쉬쿠쉬2P65.6G','20211_크라운)카라멜메이플콘74G','20229_농심멘토스믹스그레이프37.5G','25051_크라운초코하임142G', '25052_크라운참크래커56G']"
   ]
  },
  {
   "cell_type": "code",
   "execution_count": null,
   "metadata": {},
   "outputs": [],
   "source": []
  },
  {
   "cell_type": "code",
   "execution_count": null,
   "metadata": {},
   "outputs": [],
   "source": []
  },
  {
   "cell_type": "code",
   "execution_count": 2,
   "metadata": {},
   "outputs": [
    {
     "name": "stdout",
     "output_type": "stream",
     "text": [
      "Requirement already satisfied: roboflow in /home/leeej/anaconda3/envs/py38/lib/python3.8/site-packages (1.1.17)\n",
      "Requirement already satisfied: certifi==2023.7.22 in /home/leeej/anaconda3/envs/py38/lib/python3.8/site-packages (from roboflow) (2023.7.22)\n",
      "Requirement already satisfied: chardet==4.0.0 in /home/leeej/anaconda3/envs/py38/lib/python3.8/site-packages (from roboflow) (4.0.0)\n",
      "Requirement already satisfied: cycler==0.10.0 in /home/leeej/anaconda3/envs/py38/lib/python3.8/site-packages (from roboflow) (0.10.0)\n",
      "Requirement already satisfied: idna==2.10 in /home/leeej/anaconda3/envs/py38/lib/python3.8/site-packages (from roboflow) (2.10)\n",
      "Requirement already satisfied: kiwisolver>=1.3.1 in /home/leeej/anaconda3/envs/py38/lib/python3.8/site-packages (from roboflow) (1.4.5)\n",
      "Requirement already satisfied: matplotlib in /home/leeej/anaconda3/envs/py38/lib/python3.8/site-packages (from roboflow) (3.7.4)\n",
      "Requirement already satisfied: numpy>=1.18.5 in /home/leeej/anaconda3/envs/py38/lib/python3.8/site-packages (from roboflow) (1.24.4)\n",
      "Requirement already satisfied: opencv-python-headless==4.8.0.74 in /home/leeej/anaconda3/envs/py38/lib/python3.8/site-packages (from roboflow) (4.8.0.74)\n",
      "Requirement already satisfied: Pillow>=7.1.2 in /home/leeej/anaconda3/envs/py38/lib/python3.8/site-packages (from roboflow) (10.2.0)\n",
      "Requirement already satisfied: python-dateutil in /home/leeej/anaconda3/envs/py38/lib/python3.8/site-packages (from roboflow) (2.8.2)\n",
      "Requirement already satisfied: python-dotenv in /home/leeej/anaconda3/envs/py38/lib/python3.8/site-packages (from roboflow) (1.0.1)\n",
      "Requirement already satisfied: requests in /home/leeej/anaconda3/envs/py38/lib/python3.8/site-packages (from roboflow) (2.31.0)\n",
      "Requirement already satisfied: six in /home/leeej/anaconda3/envs/py38/lib/python3.8/site-packages (from roboflow) (1.16.0)\n",
      "Requirement already satisfied: supervision in /home/leeej/anaconda3/envs/py38/lib/python3.8/site-packages (from roboflow) (0.18.0)\n",
      "Requirement already satisfied: urllib3>=1.26.6 in /home/leeej/anaconda3/envs/py38/lib/python3.8/site-packages (from roboflow) (2.1.0)\n",
      "Requirement already satisfied: tqdm>=4.41.0 in /home/leeej/anaconda3/envs/py38/lib/python3.8/site-packages (from roboflow) (4.66.1)\n",
      "Requirement already satisfied: PyYAML>=5.3.1 in /home/leeej/anaconda3/envs/py38/lib/python3.8/site-packages (from roboflow) (6.0.1)\n",
      "Requirement already satisfied: requests-toolbelt in /home/leeej/anaconda3/envs/py38/lib/python3.8/site-packages (from roboflow) (1.0.0)\n",
      "Requirement already satisfied: python-magic in /home/leeej/anaconda3/envs/py38/lib/python3.8/site-packages (from roboflow) (0.4.27)\n",
      "Requirement already satisfied: contourpy>=1.0.1 in /home/leeej/anaconda3/envs/py38/lib/python3.8/site-packages (from matplotlib->roboflow) (1.1.1)\n",
      "Requirement already satisfied: fonttools>=4.22.0 in /home/leeej/anaconda3/envs/py38/lib/python3.8/site-packages (from matplotlib->roboflow) (4.47.0)\n",
      "Requirement already satisfied: packaging>=20.0 in /home/leeej/anaconda3/envs/py38/lib/python3.8/site-packages (from matplotlib->roboflow) (23.2)\n",
      "Requirement already satisfied: pyparsing>=2.3.1 in /home/leeej/anaconda3/envs/py38/lib/python3.8/site-packages (from matplotlib->roboflow) (3.1.1)\n",
      "Requirement already satisfied: importlib-resources>=3.2.0 in /home/leeej/anaconda3/envs/py38/lib/python3.8/site-packages (from matplotlib->roboflow) (6.1.1)\n",
      "Requirement already satisfied: charset-normalizer<4,>=2 in /home/leeej/anaconda3/envs/py38/lib/python3.8/site-packages (from requests->roboflow) (3.3.2)\n",
      "Requirement already satisfied: defusedxml<0.8.0,>=0.7.1 in /home/leeej/anaconda3/envs/py38/lib/python3.8/site-packages (from supervision->roboflow) (0.7.1)\n",
      "Requirement already satisfied: scipy==1.10.0 in /home/leeej/anaconda3/envs/py38/lib/python3.8/site-packages (from supervision->roboflow) (1.10.0)\n",
      "Requirement already satisfied: zipp>=3.1.0 in /home/leeej/anaconda3/envs/py38/lib/python3.8/site-packages (from importlib-resources>=3.2.0->matplotlib->roboflow) (3.17.0)\n",
      "loading Roboflow workspace...\n",
      "loading Roboflow project...\n"
     ]
    },
    {
     "name": "stderr",
     "output_type": "stream",
     "text": [
      "Downloading Dataset Version Zip in Snack-1 to yolov5pytorch:: 100%|██████████| 210376/210376 [00:11<00:00, 18712.44it/s]"
     ]
    },
    {
     "name": "stdout",
     "output_type": "stream",
     "text": [
      "\n"
     ]
    },
    {
     "name": "stderr",
     "output_type": "stream",
     "text": [
      "\n",
      "Extracting Dataset Version Zip to Snack-1 in yolov5pytorch:: 100%|██████████| 13633/13633 [00:01<00:00, 9500.18it/s] \n"
     ]
    }
   ],
   "source": [
    "# roboflow로 데이터 불러오기\n",
    "\n",
    "!pip install roboflow\n",
    "\n",
    "from roboflow import Roboflow\n",
    "rf = Roboflow(api_key=\"RLPJ93P3eFeg0Vb1gRAd\")\n",
    "project = rf.workspace(\"objectdetection-h5xud\").project(\"snack-rxs5d\")\n",
    "dataset = project.version(1).download(\"yolov5\")\n"
   ]
  },
  {
   "cell_type": "code",
   "execution_count": 1,
   "metadata": {},
   "outputs": [
    {
     "name": "stdout",
     "output_type": "stream",
     "text": [
      "Requirement already satisfied: roboflow in /home/leeej/anaconda3/envs/py38/lib/python3.8/site-packages (1.1.17)\n",
      "Requirement already satisfied: certifi==2023.7.22 in /home/leeej/anaconda3/envs/py38/lib/python3.8/site-packages (from roboflow) (2023.7.22)\n",
      "Requirement already satisfied: chardet==4.0.0 in /home/leeej/anaconda3/envs/py38/lib/python3.8/site-packages (from roboflow) (4.0.0)\n",
      "Requirement already satisfied: cycler==0.10.0 in /home/leeej/anaconda3/envs/py38/lib/python3.8/site-packages (from roboflow) (0.10.0)\n",
      "Requirement already satisfied: idna==2.10 in /home/leeej/anaconda3/envs/py38/lib/python3.8/site-packages (from roboflow) (2.10)\n",
      "Requirement already satisfied: kiwisolver>=1.3.1 in /home/leeej/anaconda3/envs/py38/lib/python3.8/site-packages (from roboflow) (1.4.5)\n",
      "Requirement already satisfied: matplotlib in /home/leeej/anaconda3/envs/py38/lib/python3.8/site-packages (from roboflow) (3.7.4)\n",
      "Requirement already satisfied: numpy>=1.18.5 in /home/leeej/anaconda3/envs/py38/lib/python3.8/site-packages (from roboflow) (1.24.4)\n",
      "Requirement already satisfied: opencv-python-headless==4.8.0.74 in /home/leeej/anaconda3/envs/py38/lib/python3.8/site-packages (from roboflow) (4.8.0.74)\n",
      "Requirement already satisfied: Pillow>=7.1.2 in /home/leeej/anaconda3/envs/py38/lib/python3.8/site-packages (from roboflow) (10.2.0)\n",
      "Requirement already satisfied: python-dateutil in /home/leeej/anaconda3/envs/py38/lib/python3.8/site-packages (from roboflow) (2.8.2)\n",
      "Requirement already satisfied: python-dotenv in /home/leeej/anaconda3/envs/py38/lib/python3.8/site-packages (from roboflow) (1.0.1)\n",
      "Requirement already satisfied: requests in /home/leeej/anaconda3/envs/py38/lib/python3.8/site-packages (from roboflow) (2.31.0)\n",
      "Requirement already satisfied: six in /home/leeej/anaconda3/envs/py38/lib/python3.8/site-packages (from roboflow) (1.16.0)\n",
      "Requirement already satisfied: supervision in /home/leeej/anaconda3/envs/py38/lib/python3.8/site-packages (from roboflow) (0.18.0)\n",
      "Requirement already satisfied: urllib3>=1.26.6 in /home/leeej/anaconda3/envs/py38/lib/python3.8/site-packages (from roboflow) (2.1.0)\n",
      "Requirement already satisfied: tqdm>=4.41.0 in /home/leeej/anaconda3/envs/py38/lib/python3.8/site-packages (from roboflow) (4.66.1)\n",
      "Requirement already satisfied: PyYAML>=5.3.1 in /home/leeej/anaconda3/envs/py38/lib/python3.8/site-packages (from roboflow) (6.0.1)\n",
      "Requirement already satisfied: requests-toolbelt in /home/leeej/anaconda3/envs/py38/lib/python3.8/site-packages (from roboflow) (1.0.0)\n",
      "Requirement already satisfied: python-magic in /home/leeej/anaconda3/envs/py38/lib/python3.8/site-packages (from roboflow) (0.4.27)\n",
      "Requirement already satisfied: contourpy>=1.0.1 in /home/leeej/anaconda3/envs/py38/lib/python3.8/site-packages (from matplotlib->roboflow) (1.1.1)\n",
      "Requirement already satisfied: fonttools>=4.22.0 in /home/leeej/anaconda3/envs/py38/lib/python3.8/site-packages (from matplotlib->roboflow) (4.47.0)\n",
      "Requirement already satisfied: packaging>=20.0 in /home/leeej/anaconda3/envs/py38/lib/python3.8/site-packages (from matplotlib->roboflow) (23.2)\n",
      "Requirement already satisfied: pyparsing>=2.3.1 in /home/leeej/anaconda3/envs/py38/lib/python3.8/site-packages (from matplotlib->roboflow) (3.1.1)\n",
      "Requirement already satisfied: importlib-resources>=3.2.0 in /home/leeej/anaconda3/envs/py38/lib/python3.8/site-packages (from matplotlib->roboflow) (6.1.1)\n",
      "Requirement already satisfied: charset-normalizer<4,>=2 in /home/leeej/anaconda3/envs/py38/lib/python3.8/site-packages (from requests->roboflow) (3.3.2)\n",
      "Requirement already satisfied: defusedxml<0.8.0,>=0.7.1 in /home/leeej/anaconda3/envs/py38/lib/python3.8/site-packages (from supervision->roboflow) (0.7.1)\n",
      "Requirement already satisfied: scipy==1.10.0 in /home/leeej/anaconda3/envs/py38/lib/python3.8/site-packages (from supervision->roboflow) (1.10.0)\n",
      "Requirement already satisfied: zipp>=3.1.0 in /home/leeej/anaconda3/envs/py38/lib/python3.8/site-packages (from importlib-resources>=3.2.0->matplotlib->roboflow) (3.17.0)\n",
      "loading Roboflow workspace...\n",
      "loading Roboflow project...\n"
     ]
    },
    {
     "name": "stderr",
     "output_type": "stream",
     "text": [
      "Downloading Dataset Version Zip in 과자-1 to yolov5pytorch:: 100%|██████████| 87010/87010 [00:05<00:00, 16103.38it/s]"
     ]
    },
    {
     "name": "stdout",
     "output_type": "stream",
     "text": [
      "\n"
     ]
    },
    {
     "name": "stderr",
     "output_type": "stream",
     "text": [
      "\n",
      "Extracting Dataset Version Zip to 과자-1 in yolov5pytorch:: 100%|██████████| 5685/5685 [00:00<00:00, 8850.80it/s]\n"
     ]
    }
   ],
   "source": [
    "!pip install roboflow\n",
    "\n",
    "from roboflow import Roboflow\n",
    "rf = Roboflow(api_key=\"RLPJ93P3eFeg0Vb1gRAd\")\n",
    "project = rf.workspace(\"objectdetection-h5xud\").project(\"-zed9g\")\n",
    "dataset = project.version(1).download(\"yolov5\")\n",
    "\n"
   ]
  },
  {
   "cell_type": "code",
   "execution_count": null,
   "metadata": {},
   "outputs": [],
   "source": []
  }
 ],
 "metadata": {
  "kernelspec": {
   "display_name": "py38",
   "language": "python",
   "name": "python3"
  },
  "language_info": {
   "codemirror_mode": {
    "name": "ipython",
    "version": 3
   },
   "file_extension": ".py",
   "mimetype": "text/x-python",
   "name": "python",
   "nbconvert_exporter": "python",
   "pygments_lexer": "ipython3",
   "version": "3.8.18"
  }
 },
 "nbformat": 4,
 "nbformat_minor": 2
}
