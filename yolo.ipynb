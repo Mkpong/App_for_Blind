{
 "cells": [
  {
   "cell_type": "code",
   "execution_count": 1,
   "metadata": {},
   "outputs": [
    {
     "name": "stdout",
     "output_type": "stream",
     "text": [
      "Using PyTorch version: 1.8.2 Device: cuda\n"
     ]
    }
   ],
   "source": [
    "import torch\n",
    "\n",
    "if torch.cuda.is_available():\n",
    "    DEVICE = torch.device('cuda')\n",
    "else :\n",
    "    DEVICE = torch.device('cpu')\n",
    "    \n",
    "print(\"Using PyTorch version:\", torch.__version__, 'Device:', DEVICE)"
   ]
  },
  {
   "cell_type": "code",
   "execution_count": 3,
   "metadata": {},
   "outputs": [
    {
     "name": "stderr",
     "output_type": "stream",
     "text": [
      "Cloning into 'yolov5'...\n"
     ]
    }
   ],
   "source": [
    "!git clone https://github.com/ultralytics/yolov5.git"
   ]
  },
  {
   "cell_type": "code",
   "execution_count": 4,
   "metadata": {},
   "outputs": [
    {
     "name": "stdout",
     "output_type": "stream",
     "text": [
      "Requirement already satisfied: gitpython>=3.1.30 in c:\\users\\leeej\\miniconda3\\envs\\python38\\lib\\site-packages (from -r ./yolov5/requirements.txt (line 5)) (3.1.40)\n",
      "Requirement already satisfied: matplotlib>=3.3 in c:\\users\\leeej\\miniconda3\\envs\\python38\\lib\\site-packages (from -r ./yolov5/requirements.txt (line 6)) (3.7.3)\n",
      "Requirement already satisfied: numpy>=1.22.2 in c:\\users\\leeej\\miniconda3\\envs\\python38\\lib\\site-packages (from -r ./yolov5/requirements.txt (line 7)) (1.24.3)\n",
      "Requirement already satisfied: opencv-python>=4.1.1 in c:\\users\\leeej\\miniconda3\\envs\\python38\\lib\\site-packages (from -r ./yolov5/requirements.txt (line 8)) (4.8.1.78)\n",
      "Requirement already satisfied: Pillow>=10.0.1 in c:\\users\\leeej\\miniconda3\\envs\\python38\\lib\\site-packages (from -r ./yolov5/requirements.txt (line 9)) (10.1.0)\n",
      "Requirement already satisfied: psutil in c:\\users\\leeej\\appdata\\roaming\\python\\python38\\site-packages (from -r ./yolov5/requirements.txt (line 10)) (5.9.5)\n",
      "Requirement already satisfied: PyYAML>=5.3.1 in c:\\users\\leeej\\appdata\\roaming\\python\\python38\\site-packages (from -r ./yolov5/requirements.txt (line 11)) (6.0.1)\n",
      "Requirement already satisfied: requests>=2.23.0 in c:\\users\\leeej\\miniconda3\\envs\\python38\\lib\\site-packages (from -r ./yolov5/requirements.txt (line 12)) (2.31.0)\n",
      "Requirement already satisfied: scipy>=1.4.1 in c:\\users\\leeej\\miniconda3\\envs\\python38\\lib\\site-packages (from -r ./yolov5/requirements.txt (line 13)) (1.10.1)\n",
      "Requirement already satisfied: thop>=0.1.1 in c:\\users\\leeej\\miniconda3\\envs\\python38\\lib\\site-packages (from -r ./yolov5/requirements.txt (line 14)) (0.1.1.post2209072238)\n",
      "Requirement already satisfied: torch>=1.8.0 in c:\\users\\leeej\\miniconda3\\envs\\python38\\lib\\site-packages (from -r ./yolov5/requirements.txt (line 15)) (1.8.2)\n",
      "Requirement already satisfied: torchvision>=0.9.0 in c:\\users\\leeej\\miniconda3\\envs\\python38\\lib\\site-packages (from -r ./yolov5/requirements.txt (line 16)) (0.15.2a0)\n",
      "Requirement already satisfied: tqdm>=4.64.0 in c:\\users\\leeej\\miniconda3\\envs\\python38\\lib\\site-packages (from -r ./yolov5/requirements.txt (line 17)) (4.66.1)\n",
      "Collecting ultralytics>=8.0.232 (from -r ./yolov5/requirements.txt (line 18))\n",
      "  Obtaining dependency information for ultralytics>=8.0.232 from https://files.pythonhosted.org/packages/7f/b1/7f4c14026334a6f7be62a86ab4b545dbea2c5ef9308b7d72c0d4bb0f7ff8/ultralytics-8.0.232-py3-none-any.whl.metadata\n",
      "  Downloading ultralytics-8.0.232-py3-none-any.whl.metadata (32 kB)\n",
      "Requirement already satisfied: pandas>=1.1.4 in c:\\users\\leeej\\miniconda3\\envs\\python38\\lib\\site-packages (from -r ./yolov5/requirements.txt (line 27)) (2.0.3)\n",
      "Requirement already satisfied: seaborn>=0.11.0 in c:\\users\\leeej\\miniconda3\\envs\\python38\\lib\\site-packages (from -r ./yolov5/requirements.txt (line 28)) (0.13.0)\n",
      "Requirement already satisfied: setuptools>=65.5.1 in c:\\users\\leeej\\miniconda3\\envs\\python38\\lib\\site-packages (from -r ./yolov5/requirements.txt (line 42)) (68.0.0)\n",
      "Requirement already satisfied: gitdb<5,>=4.0.1 in c:\\users\\leeej\\miniconda3\\envs\\python38\\lib\\site-packages (from gitpython>=3.1.30->-r ./yolov5/requirements.txt (line 5)) (4.0.11)\n",
      "Requirement already satisfied: contourpy>=1.0.1 in c:\\users\\leeej\\miniconda3\\envs\\python38\\lib\\site-packages (from matplotlib>=3.3->-r ./yolov5/requirements.txt (line 6)) (1.1.1)\n",
      "Requirement already satisfied: cycler>=0.10 in c:\\users\\leeej\\miniconda3\\envs\\python38\\lib\\site-packages (from matplotlib>=3.3->-r ./yolov5/requirements.txt (line 6)) (0.12.1)\n",
      "Requirement already satisfied: fonttools>=4.22.0 in c:\\users\\leeej\\miniconda3\\envs\\python38\\lib\\site-packages (from matplotlib>=3.3->-r ./yolov5/requirements.txt (line 6)) (4.43.1)\n",
      "Requirement already satisfied: kiwisolver>=1.0.1 in c:\\users\\leeej\\miniconda3\\envs\\python38\\lib\\site-packages (from matplotlib>=3.3->-r ./yolov5/requirements.txt (line 6)) (1.4.5)\n",
      "Requirement already satisfied: packaging>=20.0 in c:\\users\\leeej\\appdata\\roaming\\python\\python38\\site-packages (from matplotlib>=3.3->-r ./yolov5/requirements.txt (line 6)) (23.2)\n",
      "Requirement already satisfied: pyparsing>=2.3.1 in c:\\users\\leeej\\miniconda3\\envs\\python38\\lib\\site-packages (from matplotlib>=3.3->-r ./yolov5/requirements.txt (line 6)) (3.1.1)\n",
      "Requirement already satisfied: python-dateutil>=2.7 in c:\\users\\leeej\\miniconda3\\envs\\python38\\lib\\site-packages (from matplotlib>=3.3->-r ./yolov5/requirements.txt (line 6)) (2.8.2)\n",
      "Requirement already satisfied: importlib-resources>=3.2.0 in c:\\users\\leeej\\appdata\\roaming\\python\\python38\\site-packages (from matplotlib>=3.3->-r ./yolov5/requirements.txt (line 6)) (6.1.0)\n",
      "Requirement already satisfied: charset-normalizer<4,>=2 in c:\\users\\leeej\\miniconda3\\envs\\python38\\lib\\site-packages (from requests>=2.23.0->-r ./yolov5/requirements.txt (line 12)) (3.3.0)\n",
      "Requirement already satisfied: idna<4,>=2.5 in c:\\users\\leeej\\miniconda3\\envs\\python38\\lib\\site-packages (from requests>=2.23.0->-r ./yolov5/requirements.txt (line 12)) (3.4)\n",
      "Requirement already satisfied: urllib3<3,>=1.21.1 in c:\\users\\leeej\\miniconda3\\envs\\python38\\lib\\site-packages (from requests>=2.23.0->-r ./yolov5/requirements.txt (line 12)) (2.0.6)\n",
      "Requirement already satisfied: certifi>=2017.4.17 in c:\\users\\leeej\\miniconda3\\envs\\python38\\lib\\site-packages (from requests>=2.23.0->-r ./yolov5/requirements.txt (line 12)) (2023.11.17)\n",
      "Requirement already satisfied: typing_extensions in c:\\users\\leeej\\miniconda3\\envs\\python38\\lib\\site-packages (from torch>=1.8.0->-r ./yolov5/requirements.txt (line 15)) (4.8.0)\n",
      "Requirement already satisfied: colorama in c:\\users\\leeej\\appdata\\roaming\\python\\python38\\site-packages (from tqdm>=4.64.0->-r ./yolov5/requirements.txt (line 17)) (0.4.6)\n",
      "Requirement already satisfied: py-cpuinfo in c:\\users\\leeej\\miniconda3\\envs\\python38\\lib\\site-packages (from ultralytics>=8.0.232->-r ./yolov5/requirements.txt (line 18)) (9.0.0)\n",
      "Requirement already satisfied: pytz>=2020.1 in c:\\users\\leeej\\miniconda3\\envs\\python38\\lib\\site-packages (from pandas>=1.1.4->-r ./yolov5/requirements.txt (line 27)) (2023.3.post1)\n",
      "Requirement already satisfied: tzdata>=2022.1 in c:\\users\\leeej\\miniconda3\\envs\\python38\\lib\\site-packages (from pandas>=1.1.4->-r ./yolov5/requirements.txt (line 27)) (2023.3)\n",
      "Requirement already satisfied: smmap<6,>=3.0.1 in c:\\users\\leeej\\miniconda3\\envs\\python38\\lib\\site-packages (from gitdb<5,>=4.0.1->gitpython>=3.1.30->-r ./yolov5/requirements.txt (line 5)) (5.0.1)\n",
      "Requirement already satisfied: zipp>=3.1.0 in c:\\users\\leeej\\miniconda3\\envs\\python38\\lib\\site-packages (from importlib-resources>=3.2.0->matplotlib>=3.3->-r ./yolov5/requirements.txt (line 6)) (3.17.0)\n",
      "Requirement already satisfied: six>=1.5 in c:\\users\\leeej\\miniconda3\\envs\\python38\\lib\\site-packages (from python-dateutil>=2.7->matplotlib>=3.3->-r ./yolov5/requirements.txt (line 6)) (1.16.0)\n",
      "Downloading ultralytics-8.0.232-py3-none-any.whl (663 kB)\n",
      "   ---------------------------------------- 0.0/663.2 kB ? eta -:--:--\n",
      "   ---------- ----------------------------- 174.1/663.2 kB 5.3 MB/s eta 0:00:01\n",
      "   ------------ --------------------------- 204.8/663.2 kB 3.1 MB/s eta 0:00:01\n",
      "   --------------- ------------------------ 256.0/663.2 kB 1.8 MB/s eta 0:00:01\n",
      "   ----------------------------------- ---- 593.9/663.2 kB 3.1 MB/s eta 0:00:01\n",
      "   ---------------------------------------- 663.2/663.2 kB 3.2 MB/s eta 0:00:00\n",
      "Installing collected packages: ultralytics\n",
      "  Attempting uninstall: ultralytics\n",
      "    Found existing installation: ultralytics 8.0.231\n",
      "    Uninstalling ultralytics-8.0.231:\n",
      "      Successfully uninstalled ultralytics-8.0.231\n",
      "Successfully installed ultralytics-8.0.232\n"
     ]
    }
   ],
   "source": [
    "!pip install -r ./yolov5/requirements.txt"
   ]
  },
  {
   "cell_type": "markdown",
   "metadata": {},
   "source": [
    "!curl -L \"https://public.roboflow.com/ds/DYq2GwyBzp?key=zJvyPvL8d0\" > roboflow.zip; unzip roboflow.zip; rm roboflow.zip"
   ]
  },
  {
   "cell_type": "markdown",
   "metadata": {},
   "source": [
    "import os\n",
    "os.mkdir('./Pascal_VOC_2012')"
   ]
  },
  {
   "cell_type": "markdown",
   "metadata": {},
   "source": [
    "import zipfile\n",
    "\n",
    "roboflow_zip = zipfile.ZipFile('roboflow.zip')\n",
    "roboflow_zip.extractall('./Pascal_VOC_2012')\n",
    "\n",
    "roboflow_zip.close()"
   ]
  },
  {
   "cell_type": "code",
   "execution_count": 1,
   "metadata": {},
   "outputs": [
    {
     "data": {
      "text/plain": [
       "{'names': ['aeroplane',\n",
       "  'bicycle',\n",
       "  'bird',\n",
       "  'boat',\n",
       "  'bottle',\n",
       "  'bus',\n",
       "  'car',\n",
       "  'cat',\n",
       "  'chair',\n",
       "  'cow',\n",
       "  'diningtable',\n",
       "  'dog',\n",
       "  'horse',\n",
       "  'motorbike',\n",
       "  'person',\n",
       "  'pottedplant',\n",
       "  'sheep',\n",
       "  'sofa',\n",
       "  'train',\n",
       "  'tvmonitor'],\n",
       " 'nc': 20,\n",
       " 'train': 'C:\\\\Users\\\\leeej\\\\App_for_Blind\\\\Pascal_VOC_2012\\\\train.txt',\n",
       " 'val': 'C:\\\\Users\\\\leeej\\\\App_for_Blind\\\\Pascal_VOC_2012\\\\val.txt'}"
      ]
     },
     "metadata": {},
     "output_type": "display_data"
    }
   ],
   "source": [
    "import yaml\n",
    "\n",
    "with open('./Pascal_VOC_2012/data.yaml','r')as f:\n",
    "    data = yaml.full_load(f)\n",
    "    display(data)"
   ]
  },
  {
   "cell_type": "code",
   "execution_count": 2,
   "metadata": {},
   "outputs": [
    {
     "name": "stdout",
     "output_type": "stream",
     "text": [
      "13690\n",
      "3422\n"
     ]
    }
   ],
   "source": [
    "# train, valid 이미지 경로를 txt파일로 저장\n",
    "from glob import glob\n",
    "\n",
    "train_img_list = glob('C:\\\\Users\\\\leeej\\\\App_for_Blind\\\\Pascal_VOC_2012\\\\train\\\\images\\\\*.jpg')\n",
    "print(len(train_img_list))\n",
    "\n",
    "valid_img_list = glob('C:\\\\Users\\\\leeej\\\\App_for_Blind\\\\Pascal_VOC_2012\\\\valid\\\\images\\\\*.jpg')\n",
    "print(len(valid_img_list))"
   ]
  },
  {
   "cell_type": "code",
   "execution_count": 9,
   "metadata": {},
   "outputs": [],
   "source": [
    "with open('C:\\\\Users\\\\leeej\\\\App_for_Blind\\\\Pascal_VOC_2012\\\\train.txt', 'w') as f:\n",
    "    f.write('\\n'.join(train_img_list) + '\\n')\n",
    "with open('C:\\\\Users\\\\leeej\\\\App_for_Blind\\\\Pascal_VOC_2012\\\\val.txt', 'w') as f:\n",
    "    f.write('\\n'.join(valid_img_list) + '\\n')"
   ]
  },
  {
   "cell_type": "code",
   "execution_count": 10,
   "metadata": {},
   "outputs": [
    {
     "data": {
      "text/plain": [
       "{'names': ['aeroplane',\n",
       "  'bicycle',\n",
       "  'bird',\n",
       "  'boat',\n",
       "  'bottle',\n",
       "  'bus',\n",
       "  'car',\n",
       "  'cat',\n",
       "  'chair',\n",
       "  'cow',\n",
       "  'diningtable',\n",
       "  'dog',\n",
       "  'horse',\n",
       "  'motorbike',\n",
       "  'person',\n",
       "  'pottedplant',\n",
       "  'sheep',\n",
       "  'sofa',\n",
       "  'train',\n",
       "  'tvmonitor'],\n",
       " 'nc': 20,\n",
       " 'train': 'C:\\\\Users\\\\leeej\\\\App_for_Blind\\\\Pascal_VOC_2012\\\\train.txt',\n",
       " 'val': 'C:\\\\Users\\\\leeej\\\\App_for_Blind\\\\Pascal_VOC_2012\\\\val.txt'}"
      ]
     },
     "metadata": {},
     "output_type": "display_data"
    }
   ],
   "source": [
    "data['train'] = 'C:\\\\Users\\\\leeej\\\\App_for_Blind\\\\Pascal_VOC_2012\\\\train.txt'\n",
    "data['val'] = 'C:\\\\Users\\\\leeej\\\\App_for_Blind\\\\Pascal_VOC_2012\\\\val.txt'\n",
    "\n",
    "with open('C:\\\\Users\\\\leeej\\\\App_for_Blind\\\\Pascal_VOC_2012\\\\data.yaml', 'w') as f:\n",
    "    yaml.dump(data, f)\n",
    "    display(data)"
   ]
  },
  {
   "cell_type": "code",
   "execution_count": 3,
   "metadata": {},
   "outputs": [
    {
     "data": {
      "text/plain": [
       "'c:\\\\Users\\\\leeej\\\\App_for_Blind'"
      ]
     },
     "execution_count": 3,
     "metadata": {},
     "output_type": "execute_result"
    }
   ],
   "source": [
    "pwd"
   ]
  },
  {
   "cell_type": "markdown",
   "metadata": {},
   "source": [
    "### YOLOv5모델 학습"
   ]
  },
  {
   "cell_type": "code",
   "execution_count": 7,
   "metadata": {},
   "outputs": [
    {
     "name": "stdout",
     "output_type": "stream",
     "text": [
      "[WinError 2] 지정된 파일을 찾을 수 없습니다: 'yolov5'\n",
      "c:\\Users\\leeej\\App_for_Blind\\yolov5\n"
     ]
    }
   ],
   "source": [
    "%cd yolov5\n",
    "\n",
    "!python train.py --img 416 --batch 4 --epochs 50 --data ../Pascal_VOC_2012/data.yaml --cfg ./models/yolov5s.yaml --name pascal_yolov5_results"
   ]
  },
  {
   "cell_type": "code",
   "execution_count": null,
   "metadata": {},
   "outputs": [],
   "source": []
  }
 ],
 "metadata": {
  "kernelspec": {
   "display_name": "python38",
   "language": "python",
   "name": "python3"
  },
  "language_info": {
   "codemirror_mode": {
    "name": "ipython",
    "version": 3
   },
   "file_extension": ".py",
   "mimetype": "text/x-python",
   "name": "python",
   "nbconvert_exporter": "python",
   "pygments_lexer": "ipython3",
   "version": "3.11.5"
  }
 },
 "nbformat": 4,
 "nbformat_minor": 2
}
